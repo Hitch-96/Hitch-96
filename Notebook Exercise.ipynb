{
  "metadata": {
    "language_info": {
      "codemirror_mode": {
        "name": "python",
        "version": 3
      },
      "file_extension": ".py",
      "mimetype": "text/x-python",
      "name": "python",
      "nbconvert_exporter": "python",
      "pygments_lexer": "ipython3",
      "version": "3.8"
    },
    "kernelspec": {
      "name": "python",
      "display_name": "Python (Pyodide)",
      "language": "python"
    }
  },
  "nbformat_minor": 4,
  "nbformat": 4,
  "cells": [
    {
      "cell_type": "markdown",
      "source": "# Ex2:\n# Jupyter Notebook for IBM Certification Assessment",
      "metadata": {}
    },
    {
      "cell_type": "markdown",
      "source": "# Ex3: \n\nThis is the introduction of my Jupyter Notebook. I hope you enjoy this notebook!",
      "metadata": {}
    },
    {
      "cell_type": "markdown",
      "source": "# Ex4:\n\nData science main languages are the following:\n- Python\n- R\n- SQL\n- Julia\n- Scala\n- SAS",
      "metadata": {}
    },
    {
      "cell_type": "markdown",
      "source": "# Ex5:\n\nThe main data science libraries are the following:\n- Numpy\n- Pandas\n- Matplotlib\n- scikit-learn\n- PyTorch\n- TensorFlow",
      "metadata": {}
    },
    {
      "cell_type": "markdown",
      "source": "# Ex6:\n\n**Table of data science tools:**\n\n| Category            | Tools                     |\n|---------------------|---------------------------|\n| Programming Languages | Python, R, SQL          |\n| Data Manipulation    | Pandas, SQL              |\n| Data Visualization  | Matplotlib, ggplot2      |\n| Machine Learning     | Scikit-learn, TensorFlow |\n| Deep Learning        | Keras, PyTorch           |",
      "metadata": {}
    },
    {
      "cell_type": "markdown",
      "source": "# Ex7:\n\nArithmetic expressions are mathematical expressions that involve numbers, operators, and parentheses. They are used to perform calculations and evaluate mathematical operations. Here are some examples of arithmetic expressions:\n\n- Addition: `2 + 3` evaluates to 5.\n- Subtraction: `7 - 4` evaluates to 3.\n- Multiplication: `5 * 6` evaluates to 30.\n- Division: `12 / 4` evaluates to 3.\n- Exponentiation: `2 ** 3` evaluates to 8 (2 raised to the power of 3).\n- Modulo: `10 % 3` evaluates to 1 (remainder of the division of 10 by 3).",
      "metadata": {}
    },
    {
      "cell_type": "code",
      "source": "#Ex8:\n\n#Multiplication\nnum1 = 5\nnum2 = 3\nresult_mult = num1 * num2\nprint(\"Multiplication Result:\", result_mult)\n\n#Addition\nnum3 = 7\nnum4 = 2\nresult_add = num3 + num4\nprint(\"Addition Result:\", result_add)\n",
      "metadata": {
        "trusted": true
      },
      "execution_count": 9,
      "outputs": [
        {
          "name": "stdout",
          "text": "Multiplication Result: 15\nAddition Result: 9\n",
          "output_type": "stream"
        }
      ]
    },
    {
      "cell_type": "code",
      "source": "#Ex9:\n\nminutes = 150\nhours = minutes / 60\nprint(\"Minutes:\", minutes)\nprint(\"Hours:\", hours)\n",
      "metadata": {
        "trusted": true
      },
      "execution_count": 8,
      "outputs": [
        {
          "name": "stdout",
          "text": "Minutes: 150\nHours: 2.5\n",
          "output_type": "stream"
        }
      ]
    },
    {
      "cell_type": "markdown",
      "source": "# Ex10:\n\n**Objectives:**\n1. Finish the IBM certificate\n2. Work on a reinforcement learning practical project\n3. Begin my personal deep learning project\n",
      "metadata": {}
    },
    {
      "cell_type": "markdown",
      "source": "# Ex11:\n\n**Author's name:**\nHicham Bel Melih\n",
      "metadata": {}
    }
  ]
}